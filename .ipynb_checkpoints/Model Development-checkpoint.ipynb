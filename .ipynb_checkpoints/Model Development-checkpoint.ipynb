{
 "cells": [
  {
   "cell_type": "markdown",
   "id": "0732a6d5",
   "metadata": {},
   "source": [
    "# Model Development "
   ]
  },
  {
   "cell_type": "markdown",
   "id": "c754c695",
   "metadata": {},
   "source": [
    "## Libraries & Data Import"
   ]
  },
  {
   "cell_type": "code",
   "execution_count": 243,
   "id": "2ad0d8e2",
   "metadata": {},
   "outputs": [],
   "source": [
    "import pandas as pd \n",
    "import numpy as np\n",
    "import json\n",
    "import pickle\n",
    "from sklearn import preprocessing\n",
    "from sklearn.preprocessing import StandardScaler\n",
    "from sklearn.model_selection import train_test_split\n",
    "from sklearn.linear_model import LinearRegression\n",
    "from sklearn.metrics import r2_score, mean_squared_error, mean_absolute_error"
   ]
  },
  {
   "cell_type": "code",
   "execution_count": 2,
   "id": "711cbe17",
   "metadata": {},
   "outputs": [],
   "source": [
    "df = pd.read_csv(\n",
    "    \"/Users/tonyanciaux/Documents/AI Bootcamp - BeCode/project3_immovlan_analysis/utils/data_cleaned.csv\",\n",
    "    sep=\";\",\n",
    "    index_col=0,\n",
    ")"
   ]
  },
  {
   "cell_type": "markdown",
   "id": "813dfb10",
   "metadata": {},
   "source": [
    "\"\"\"\n",
    "The expected input should be in the following JSON format: \n",
    "        {\n",
    "        \"data\": {\n",
    "        \"area\": \"MANDATORY [int]\",\n",
    "        \"property-type\": \"MANDATORY ['Appartment', 'House'] [str]\",\n",
    "        \"bedrooms-number\": \"MANDATORY [int]\",\n",
    "        \"province\": \"MANDATORY [str]\",\n",
    "        \"furnished\": \"OPTIONAL [bool]\", \n",
    "        \"garden\": \"OPTIONAL [bool]\",\n",
    "        \"garden-area\": \"OPTIONAL [int]\",\n",
    "        \"kitchen\": \"OPTIONAL ['Not equipped', 'Partially equipped', 'Fully equipped', 'Super equipped']\",\n",
    "        \"terrace\": \"OPTIONAL [bool]\",\n",
    "        \"terrace-area\": \"OPTIONAL [int]\",\n",
    "        \"facades-number\": \"OPTIONAL [int]\",\n",
    "        \"building-state\": \"OPTIONAL ['To be renovated', 'Normal', 'Excellent', 'Fully renovated', 'New']\"\n",
    "        }\n",
    "        }\n",
    "\"\"\""
   ]
  },
  {
   "cell_type": "markdown",
   "id": "6937995a",
   "metadata": {},
   "source": [
    "## Data Cleaning"
   ]
  },
  {
   "cell_type": "markdown",
   "id": "bcbf97a1",
   "metadata": {},
   "source": [
    "### Sorting out Columns"
   ]
  },
  {
   "cell_type": "code",
   "execution_count": 3,
   "id": "e9fa1526",
   "metadata": {
    "scrolled": false
   },
   "outputs": [
    {
     "data": {
      "text/plain": [
       "Index(['Locality', 'Type of property', 'Subtype of property', 'Price',\n",
       "       'Number of bedrooms', 'Livable surface', 'Kitchen equipment',\n",
       "       'Number of bathrooms', 'Number of toilets', 'Floor of appartment',\n",
       "       'Number of floors', 'Balcony', 'State of the property', 'Build Year',\n",
       "       'Surface bedroom 1', 'Furnished', 'Surface of living-room', 'Cellar',\n",
       "       'Surface kitchen', 'Entry phone', 'Elevator', 'Number of showers',\n",
       "       'Orientation of the front facade', 'Number of facades', 'Terrace',\n",
       "       'Surface terrace', 'Surface bedroom 2', 'Security door',\n",
       "       'Access for disabled', 'Sewer Connection', 'Garden', 'Surface garden',\n",
       "       'Surface bedroom 3', 'Garage'],\n",
       "      dtype='object')"
      ]
     },
     "execution_count": 3,
     "metadata": {},
     "output_type": "execute_result"
    }
   ],
   "source": [
    "df.columns"
   ]
  },
  {
   "cell_type": "code",
   "execution_count": 5,
   "id": "e8cc8a71",
   "metadata": {},
   "outputs": [],
   "source": [
    "sorted_df = df[\n",
    "    [\n",
    "        \"Livable surface\",\n",
    "        \"Type of property\",\n",
    "        \"Number of bedrooms\",\n",
    "        \"Furnished\",\n",
    "        \"Locality\",\n",
    "        \"Garden\",\n",
    "        \"Surface garden\",\n",
    "        \"Kitchen equipment\",\n",
    "        \"Terrace\",\n",
    "        \"Surface terrace\",\n",
    "        \"Number of facades\",\n",
    "        \"State of the property\"\n",
    "    ]\n",
    "]"
   ]
  },
  {
   "cell_type": "code",
   "execution_count": null,
   "id": "757d0c86",
   "metadata": {},
   "outputs": [],
   "source": [
    "sorted_df = sorted_df.dropna(subset=['area', 'bedrooms-number'])"
   ]
  },
  {
   "cell_type": "markdown",
   "id": "ae01db6a",
   "metadata": {},
   "source": [
    "### Renaming Columns"
   ]
  },
  {
   "cell_type": "code",
   "execution_count": 6,
   "id": "7c8c96f4",
   "metadata": {},
   "outputs": [],
   "source": [
    "sorted_df = sorted_df.rename(\n",
    "    {\n",
    "        \"Livable surface\": \"area\",\n",
    "        \"Type of property\": \"property-type\",\n",
    "        \"Number of bedrooms\": \"bedrooms-number\",\n",
    "        \"Furnished\": \"furnished\",\n",
    "        \"Locality\": \"zip-code\",\n",
    "        \"Garden\": \"garden\",\n",
    "        \"Surface garden\": \"garden-area\",\n",
    "        \"Kitchen equipment\": \"kitchen\",\n",
    "        \"Terrace\": \"terrace\",\n",
    "        \"Surface terrace\": \"terrace-area\",\n",
    "        \"Number of facades\": \"facades-number\",\n",
    "        \"State of the property\": \"building-state\",\n",
    "    },\n",
    "    axis=1,\n",
    ")"
   ]
  },
  {
   "cell_type": "code",
   "execution_count": 10,
   "id": "f37cd8ad",
   "metadata": {},
   "outputs": [
    {
     "data": {
      "text/html": [
       "<div>\n",
       "<style scoped>\n",
       "    .dataframe tbody tr th:only-of-type {\n",
       "        vertical-align: middle;\n",
       "    }\n",
       "\n",
       "    .dataframe tbody tr th {\n",
       "        vertical-align: top;\n",
       "    }\n",
       "\n",
       "    .dataframe thead th {\n",
       "        text-align: right;\n",
       "    }\n",
       "</style>\n",
       "<table border=\"1\" class=\"dataframe\">\n",
       "  <thead>\n",
       "    <tr style=\"text-align: right;\">\n",
       "      <th></th>\n",
       "      <th>area</th>\n",
       "      <th>property-type</th>\n",
       "      <th>bedrooms-number</th>\n",
       "      <th>furnished</th>\n",
       "      <th>zip-code</th>\n",
       "      <th>garden</th>\n",
       "      <th>garden-area</th>\n",
       "      <th>kitchen</th>\n",
       "      <th>terrace</th>\n",
       "      <th>terrace-area</th>\n",
       "      <th>facades-number</th>\n",
       "      <th>building-state</th>\n",
       "    </tr>\n",
       "  </thead>\n",
       "  <tbody>\n",
       "    <tr>\n",
       "      <th>0</th>\n",
       "      <td>100.0</td>\n",
       "      <td>flat</td>\n",
       "      <td>2.0</td>\n",
       "      <td>0</td>\n",
       "      <td>1000 Brussels</td>\n",
       "      <td>0</td>\n",
       "      <td>NaN</td>\n",
       "      <td>Super equipped</td>\n",
       "      <td>0</td>\n",
       "      <td>0.0</td>\n",
       "      <td>2</td>\n",
       "      <td>Normal</td>\n",
       "    </tr>\n",
       "    <tr>\n",
       "      <th>1</th>\n",
       "      <td>80.0</td>\n",
       "      <td>flat</td>\n",
       "      <td>1.0</td>\n",
       "      <td>0</td>\n",
       "      <td>1000 Brussels</td>\n",
       "      <td>0</td>\n",
       "      <td>NaN</td>\n",
       "      <td>Super equipped</td>\n",
       "      <td>0</td>\n",
       "      <td>0.0</td>\n",
       "      <td>2</td>\n",
       "      <td>Normal</td>\n",
       "    </tr>\n",
       "    <tr>\n",
       "      <th>2</th>\n",
       "      <td>80.0</td>\n",
       "      <td>flat</td>\n",
       "      <td>2.0</td>\n",
       "      <td>0</td>\n",
       "      <td>1000 Brussels</td>\n",
       "      <td>0</td>\n",
       "      <td>NaN</td>\n",
       "      <td>Partially equipped</td>\n",
       "      <td>1</td>\n",
       "      <td>4.0</td>\n",
       "      <td>2</td>\n",
       "      <td>Normal</td>\n",
       "    </tr>\n",
       "    <tr>\n",
       "      <th>3</th>\n",
       "      <td>217.0</td>\n",
       "      <td>flat</td>\n",
       "      <td>2.0</td>\n",
       "      <td>0</td>\n",
       "      <td>1000 Brussels</td>\n",
       "      <td>0</td>\n",
       "      <td>NaN</td>\n",
       "      <td>Super equipped</td>\n",
       "      <td>1</td>\n",
       "      <td>40.0</td>\n",
       "      <td>2</td>\n",
       "      <td>Fully renovated</td>\n",
       "    </tr>\n",
       "    <tr>\n",
       "      <th>4</th>\n",
       "      <td>207.0</td>\n",
       "      <td>flat</td>\n",
       "      <td>2.0</td>\n",
       "      <td>0</td>\n",
       "      <td>1000 Brussels</td>\n",
       "      <td>0</td>\n",
       "      <td>NaN</td>\n",
       "      <td>Partially equipped</td>\n",
       "      <td>1</td>\n",
       "      <td>10.0</td>\n",
       "      <td>2</td>\n",
       "      <td>Fully renovated</td>\n",
       "    </tr>\n",
       "    <tr>\n",
       "      <th>...</th>\n",
       "      <td>...</td>\n",
       "      <td>...</td>\n",
       "      <td>...</td>\n",
       "      <td>...</td>\n",
       "      <td>...</td>\n",
       "      <td>...</td>\n",
       "      <td>...</td>\n",
       "      <td>...</td>\n",
       "      <td>...</td>\n",
       "      <td>...</td>\n",
       "      <td>...</td>\n",
       "      <td>...</td>\n",
       "    </tr>\n",
       "    <tr>\n",
       "      <th>18475</th>\n",
       "      <td>103.0</td>\n",
       "      <td>flat</td>\n",
       "      <td>2.0</td>\n",
       "      <td>0</td>\n",
       "      <td>9991 Adegem</td>\n",
       "      <td>1</td>\n",
       "      <td>127.0</td>\n",
       "      <td>Fully equipped</td>\n",
       "      <td>1</td>\n",
       "      <td>21.0</td>\n",
       "      <td>3</td>\n",
       "      <td>New</td>\n",
       "    </tr>\n",
       "    <tr>\n",
       "      <th>18476</th>\n",
       "      <td>53.0</td>\n",
       "      <td>flat</td>\n",
       "      <td>1.0</td>\n",
       "      <td>0</td>\n",
       "      <td>9991 Adegem</td>\n",
       "      <td>0</td>\n",
       "      <td>NaN</td>\n",
       "      <td>Fully equipped</td>\n",
       "      <td>0</td>\n",
       "      <td>0.0</td>\n",
       "      <td>2</td>\n",
       "      <td>New</td>\n",
       "    </tr>\n",
       "    <tr>\n",
       "      <th>18500</th>\n",
       "      <td>99.0</td>\n",
       "      <td>flat</td>\n",
       "      <td>3.0</td>\n",
       "      <td>0</td>\n",
       "      <td>9991 Adegem</td>\n",
       "      <td>0</td>\n",
       "      <td>NaN</td>\n",
       "      <td>Fully equipped</td>\n",
       "      <td>0</td>\n",
       "      <td>0.0</td>\n",
       "      <td>3</td>\n",
       "      <td>New</td>\n",
       "    </tr>\n",
       "    <tr>\n",
       "      <th>18503</th>\n",
       "      <td>630.0</td>\n",
       "      <td>house</td>\n",
       "      <td>6.0</td>\n",
       "      <td>0</td>\n",
       "      <td>9992 Middelburg</td>\n",
       "      <td>0</td>\n",
       "      <td>NaN</td>\n",
       "      <td>Partially equipped</td>\n",
       "      <td>0</td>\n",
       "      <td>0.0</td>\n",
       "      <td>4</td>\n",
       "      <td>Excellent</td>\n",
       "    </tr>\n",
       "    <tr>\n",
       "      <th>18504</th>\n",
       "      <td>196.0</td>\n",
       "      <td>house</td>\n",
       "      <td>3.0</td>\n",
       "      <td>0</td>\n",
       "      <td>9992 Middelburg</td>\n",
       "      <td>1</td>\n",
       "      <td>2940.0</td>\n",
       "      <td>Fully equipped</td>\n",
       "      <td>0</td>\n",
       "      <td>0.0</td>\n",
       "      <td>2</td>\n",
       "      <td>Normal</td>\n",
       "    </tr>\n",
       "  </tbody>\n",
       "</table>\n",
       "<p>15093 rows × 12 columns</p>\n",
       "</div>"
      ],
      "text/plain": [
       "        area property-type  bedrooms-number  furnished         zip-code  \\\n",
       "0      100.0          flat              2.0          0    1000 Brussels   \n",
       "1       80.0          flat              1.0          0    1000 Brussels   \n",
       "2       80.0          flat              2.0          0    1000 Brussels   \n",
       "3      217.0          flat              2.0          0    1000 Brussels   \n",
       "4      207.0          flat              2.0          0    1000 Brussels   \n",
       "...      ...           ...              ...        ...              ...   \n",
       "18475  103.0          flat              2.0          0      9991 Adegem   \n",
       "18476   53.0          flat              1.0          0      9991 Adegem   \n",
       "18500   99.0          flat              3.0          0      9991 Adegem   \n",
       "18503  630.0         house              6.0          0  9992 Middelburg   \n",
       "18504  196.0         house              3.0          0  9992 Middelburg   \n",
       "\n",
       "       garden  garden-area             kitchen  terrace  terrace-area  \\\n",
       "0           0          NaN      Super equipped        0           0.0   \n",
       "1           0          NaN      Super equipped        0           0.0   \n",
       "2           0          NaN  Partially equipped        1           4.0   \n",
       "3           0          NaN      Super equipped        1          40.0   \n",
       "4           0          NaN  Partially equipped        1          10.0   \n",
       "...       ...          ...                 ...      ...           ...   \n",
       "18475       1        127.0      Fully equipped        1          21.0   \n",
       "18476       0          NaN      Fully equipped        0           0.0   \n",
       "18500       0          NaN      Fully equipped        0           0.0   \n",
       "18503       0          NaN  Partially equipped        0           0.0   \n",
       "18504       1       2940.0      Fully equipped        0           0.0   \n",
       "\n",
       "       facades-number   building-state  \n",
       "0                   2           Normal  \n",
       "1                   2           Normal  \n",
       "2                   2           Normal  \n",
       "3                   2  Fully renovated  \n",
       "4                   2  Fully renovated  \n",
       "...               ...              ...  \n",
       "18475               3              New  \n",
       "18476               2              New  \n",
       "18500               3              New  \n",
       "18503               4        Excellent  \n",
       "18504               2           Normal  \n",
       "\n",
       "[15093 rows x 12 columns]"
      ]
     },
     "execution_count": 10,
     "metadata": {},
     "output_type": "execute_result"
    }
   ],
   "source": [
    "sorted_df"
   ]
  },
  {
   "cell_type": "markdown",
   "id": "51d3af76",
   "metadata": {},
   "source": [
    "### Total Cleaning Function"
   ]
  },
  {
   "cell_type": "markdown",
   "id": "429211f7",
   "metadata": {},
   "source": [
    "#### Function Definition"
   ]
  },
  {
   "cell_type": "code",
   "execution_count": 424,
   "id": "570ec303",
   "metadata": {},
   "outputs": [],
   "source": [
    "default_columns = ['price', 'bedroom-numbers', 'area', 'kitchen', 'bathroom-number', 'balcony', 'building-state', \n",
    "                   'master-bedroom-area', 'living-room-area', 'cellar', 'facades-number', 'terrace-area', \n",
    "                   'garden-area', 'garage', 'apartment', 'bungalow', 'chalet', 'cottage', 'duplex', \n",
    "                   'ground-floor', 'loft', 'mansion', 'master-house', 'mixed-building', 'penthouse', 'residence', \n",
    "                   'studio', 'triplex', 'villa', 'Antwerp Province', 'Brussels-Capital Region', \n",
    "                   'East Flanders Province', 'Flemish Brabant Province', 'Hainaut Province', 'Limburg Province', \n",
    "                   'Liège Province', 'Luxembourg Province', 'Namur Province', 'Walloon Brabant Province', \n",
    "                   'West Flanders Province']\n",
    "\n",
    "\n",
    "zipcodes = {\n",
    "    (\"1000\", \"1299\"): \"Brussels-Capital Region\",\n",
    "    (\"1300\", \"1499\"): \"Walloon Brabant Province\",\n",
    "    (\"1500\", \"1999\"): \"Flemish Brabant Province\",\n",
    "    (\"2000\", \"2999\"): \"Antwerp Province\",\n",
    "    (\"3000\", \"3499\"): \"Flemish Brabant Province\",\n",
    "    (\"3500\", \"3999\"): \"Limburg Province\",\n",
    "    (\"4000\", \"4999\"): \"Liège Province\",\n",
    "    (\"5000\", \"5999\"): \"Namur Province\",\n",
    "    (\"6000\", \"6599\"): \"Hainaut Province\",\n",
    "    (\"6600\", \"6999\"): \"Luxembourg Province\",\n",
    "    (\"7000\", \"7999\"): \"Hainaut Province\",\n",
    "    (\"8000\", \"8999\"): \"West Flanders Province\",\n",
    "    (\"9000\", \"9999\"): \"East Flanders Province\",\n",
    "}\n",
    "\n",
    "\n",
    "def preprocess(data):\n",
    "    \"\"\"\n",
    "    Take a JSON formatted file as input\n",
    "    :return: preprocessed data ready for prediction model\n",
    "    \"\"\"\n",
    "    zeros = np.zeros(len(default_columns))\n",
    "    df = pd.DataFrame()\n",
    "\n",
    "    \n",
    "    # kitchen data cleaning\n",
    "    if data[\"data\"][\"kitchen\"] == \"Not equipped\":\n",
    "        pd_data[\"data\"][\"kitchen\"] = 0\n",
    "    elif data[\"data\"][\"kitchen\"] == \"Partially equipped\":\n",
    "        pd_data[\"data\"][\"kitchen\"] = 1\n",
    "    elif data[\"data\"][\"kitchen\"] == \"Fully equipped\":\n",
    "        pd_data[\"data\"][\"kitchen\"] = 2\n",
    "    elif data[\"data\"][\"kitchen\"] == \"Super equipped\":\n",
    "        pd_data[\"data\"][\"kitchen\"] = 3\n",
    "\n",
    "        \n",
    "    # zip-code transformation\n",
    "    for k, v in zipcodes.items():\n",
    "        if k[0] < pd_data[\"data\"][\"zip-code\"] < k[1]:\n",
    "            pd_data[\"data\"][\"zip-code\"] = v\n",
    "\n",
    "\n",
    "    # Building-state cleaning\n",
    "    if data[\"data\"][\"building-state\"] == \"To be renovated\":\n",
    "        pd_data[\"data\"][\"building-state\"] = 0\n",
    "    elif data[\"data\"][\"building-state\"] == \"Normal\":\n",
    "        pd_data[\"data\"][\"building-state\"] = 1\n",
    "    elif data[\"data\"][\"building-state\"] == \"Excellent\":\n",
    "        pd_data[\"data\"][\"building-state\"] = 2\n",
    "    elif data[\"data\"][\"building-state\"] == \"Fully renovated\":\n",
    "        pd_data[\"data\"][\"building-state\"] = 3\n",
    "    elif data[\"data\"][\"building-state\"] == \"New\":\n",
    "        pd_data[\"data\"][\"building-state\"] = 4\n",
    "\n",
    "        \n",
    "    # Fill-in the empty values in the input with 0\n",
    "    pd_data = pd_data.fillna(0)\n",
    "        \n",
    "   # # Replaces Boolean with Binary values \n",
    "   # for value in pd_data[\"data\"].values:\n",
    "   #     if value == True:\n",
    "   #         value = 1\n",
    "   #     elif value == False:\n",
    "   #         value = 0\n",
    "\n",
    "            \n",
    "    return pd_data"
   ]
  },
  {
   "cell_type": "code",
   "execution_count": 412,
   "id": "4e0a31ce",
   "metadata": {},
   "outputs": [],
   "source": [
    "dummy = {\n",
    "    \"data\": {\n",
    "        \"area\": 134,\n",
    "        \"property-type\": \"Appartment\",\n",
    "        \"bedrooms-number\": 3,\n",
    "        \"furnished\": False,\n",
    "        \"zip-code\": \"5000 Somewhere\",\n",
    "        \"garden\": True,\n",
    "        \"garden-area\": np.nan,\n",
    "        \"kitchen\": \"Partially equipped\",\n",
    "        \"terrace\": True,\n",
    "        \"terrace-area\": 100,\n",
    "        \"facades-number\": 2,\n",
    "        \"building-state\": \"Excellent\",\n",
    "    }\n",
    "}"
   ]
  },
  {
   "cell_type": "code",
   "execution_count": 422,
   "id": "e1110f78",
   "metadata": {
    "scrolled": false
   },
   "outputs": [
    {
     "data": {
      "text/plain": [
       "area                              134\n",
       "bedrooms-number                     3\n",
       "building-state              Excellent\n",
       "facades-number                      2\n",
       "furnished                       False\n",
       "garden                           True\n",
       "garden-area                       NaN\n",
       "kitchen            Partially equipped\n",
       "property-type              Appartment\n",
       "terrace                          True\n",
       "terrace-area                      100\n",
       "zip-code               5000 Somewhere\n",
       "Name: data, dtype: object"
      ]
     },
     "execution_count": 422,
     "metadata": {},
     "output_type": "execute_result"
    }
   ],
   "source": [
    "dummy_pd = pd.DataFrame(dummy)\n",
    "dummy_pd[\"data\"]"
   ]
  },
  {
   "cell_type": "code",
   "execution_count": 425,
   "id": "3e61f539",
   "metadata": {},
   "outputs": [
    {
     "data": {
      "text/html": [
       "<div>\n",
       "<style scoped>\n",
       "    .dataframe tbody tr th:only-of-type {\n",
       "        vertical-align: middle;\n",
       "    }\n",
       "\n",
       "    .dataframe tbody tr th {\n",
       "        vertical-align: top;\n",
       "    }\n",
       "\n",
       "    .dataframe thead th {\n",
       "        text-align: right;\n",
       "    }\n",
       "</style>\n",
       "<table border=\"1\" class=\"dataframe\">\n",
       "  <thead>\n",
       "    <tr style=\"text-align: right;\">\n",
       "      <th></th>\n",
       "      <th>data</th>\n",
       "    </tr>\n",
       "  </thead>\n",
       "  <tbody>\n",
       "    <tr>\n",
       "      <th>area</th>\n",
       "      <td>134</td>\n",
       "    </tr>\n",
       "    <tr>\n",
       "      <th>bedrooms-number</th>\n",
       "      <td>3</td>\n",
       "    </tr>\n",
       "    <tr>\n",
       "      <th>building-state</th>\n",
       "      <td>2</td>\n",
       "    </tr>\n",
       "    <tr>\n",
       "      <th>facades-number</th>\n",
       "      <td>2</td>\n",
       "    </tr>\n",
       "    <tr>\n",
       "      <th>furnished</th>\n",
       "      <td>False</td>\n",
       "    </tr>\n",
       "    <tr>\n",
       "      <th>garden</th>\n",
       "      <td>True</td>\n",
       "    </tr>\n",
       "    <tr>\n",
       "      <th>garden-area</th>\n",
       "      <td>0</td>\n",
       "    </tr>\n",
       "    <tr>\n",
       "      <th>kitchen</th>\n",
       "      <td>1</td>\n",
       "    </tr>\n",
       "    <tr>\n",
       "      <th>property-type</th>\n",
       "      <td>Appartment</td>\n",
       "    </tr>\n",
       "    <tr>\n",
       "      <th>terrace</th>\n",
       "      <td>True</td>\n",
       "    </tr>\n",
       "    <tr>\n",
       "      <th>terrace-area</th>\n",
       "      <td>100</td>\n",
       "    </tr>\n",
       "    <tr>\n",
       "      <th>zip-code</th>\n",
       "      <td>Namur Province</td>\n",
       "    </tr>\n",
       "  </tbody>\n",
       "</table>\n",
       "</div>"
      ],
      "text/plain": [
       "                           data\n",
       "area                        134\n",
       "bedrooms-number               3\n",
       "building-state                2\n",
       "facades-number                2\n",
       "furnished                 False\n",
       "garden                     True\n",
       "garden-area                   0\n",
       "kitchen                       1\n",
       "property-type        Appartment\n",
       "terrace                    True\n",
       "terrace-area                100\n",
       "zip-code         Namur Province"
      ]
     },
     "execution_count": 425,
     "metadata": {},
     "output_type": "execute_result"
    }
   ],
   "source": [
    "preprocess(dummy)"
   ]
  },
  {
   "cell_type": "markdown",
   "id": "11574656",
   "metadata": {},
   "source": [
    "#### Function Calling"
   ]
  },
  {
   "cell_type": "markdown",
   "id": "36bf0361",
   "metadata": {},
   "source": [
    "## Regression Model"
   ]
  },
  {
   "cell_type": "markdown",
   "id": "dde75b2a",
   "metadata": {},
   "source": [
    "### DF Preparation"
   ]
  },
  {
   "cell_type": "code",
   "execution_count": 143,
   "id": "c3bb34eb",
   "metadata": {},
   "outputs": [],
   "source": [
    "ml_ready_data = pd.read_csv(\"/Users/tonyanciaux/Documents/AI Bootcamp - BeCode/Immo_Eliza_Regression/ML_ready_data.csv\")"
   ]
  },
  {
   "cell_type": "code",
   "execution_count": 144,
   "id": "137ddabe",
   "metadata": {
    "collapsed": true
   },
   "outputs": [
    {
     "data": {
      "text/html": [
       "<div>\n",
       "<style scoped>\n",
       "    .dataframe tbody tr th:only-of-type {\n",
       "        vertical-align: middle;\n",
       "    }\n",
       "\n",
       "    .dataframe tbody tr th {\n",
       "        vertical-align: top;\n",
       "    }\n",
       "\n",
       "    .dataframe thead th {\n",
       "        text-align: right;\n",
       "    }\n",
       "</style>\n",
       "<table border=\"1\" class=\"dataframe\">\n",
       "  <thead>\n",
       "    <tr style=\"text-align: right;\">\n",
       "      <th></th>\n",
       "      <th>Price</th>\n",
       "      <th>Number of bedrooms</th>\n",
       "      <th>Livable surface</th>\n",
       "      <th>Kitchen equipment</th>\n",
       "      <th>Number of bathrooms</th>\n",
       "      <th>Balcony</th>\n",
       "      <th>State of the property</th>\n",
       "      <th>Surface master bedroom</th>\n",
       "      <th>Surface of living-room</th>\n",
       "      <th>Cellar</th>\n",
       "      <th>...</th>\n",
       "      <th>Brussels-Capital Region</th>\n",
       "      <th>East Flanders Province</th>\n",
       "      <th>Flemish Brabant Province</th>\n",
       "      <th>Hainaut Province</th>\n",
       "      <th>Limburg Province</th>\n",
       "      <th>Liège Province</th>\n",
       "      <th>Luxembourg Province</th>\n",
       "      <th>Namur Province</th>\n",
       "      <th>Walloon Brabant Province</th>\n",
       "      <th>West Flanders Province</th>\n",
       "    </tr>\n",
       "  </thead>\n",
       "  <tbody>\n",
       "    <tr>\n",
       "      <th>0</th>\n",
       "      <td>333500.0</td>\n",
       "      <td>2.0</td>\n",
       "      <td>100.0</td>\n",
       "      <td>4.0</td>\n",
       "      <td>1.0</td>\n",
       "      <td>0.0</td>\n",
       "      <td>2.0</td>\n",
       "      <td>13.0</td>\n",
       "      <td>29.0</td>\n",
       "      <td>0.0</td>\n",
       "      <td>...</td>\n",
       "      <td>1</td>\n",
       "      <td>0</td>\n",
       "      <td>0</td>\n",
       "      <td>0</td>\n",
       "      <td>0</td>\n",
       "      <td>0</td>\n",
       "      <td>0</td>\n",
       "      <td>0</td>\n",
       "      <td>0</td>\n",
       "      <td>0</td>\n",
       "    </tr>\n",
       "    <tr>\n",
       "      <th>1</th>\n",
       "      <td>379000.0</td>\n",
       "      <td>1.0</td>\n",
       "      <td>80.0</td>\n",
       "      <td>4.0</td>\n",
       "      <td>1.0</td>\n",
       "      <td>0.0</td>\n",
       "      <td>2.0</td>\n",
       "      <td>21.0</td>\n",
       "      <td>25.0</td>\n",
       "      <td>1.0</td>\n",
       "      <td>...</td>\n",
       "      <td>1</td>\n",
       "      <td>0</td>\n",
       "      <td>0</td>\n",
       "      <td>0</td>\n",
       "      <td>0</td>\n",
       "      <td>0</td>\n",
       "      <td>0</td>\n",
       "      <td>0</td>\n",
       "      <td>0</td>\n",
       "      <td>0</td>\n",
       "    </tr>\n",
       "    <tr>\n",
       "      <th>2</th>\n",
       "      <td>295000.0</td>\n",
       "      <td>2.0</td>\n",
       "      <td>80.0</td>\n",
       "      <td>2.0</td>\n",
       "      <td>1.0</td>\n",
       "      <td>0.0</td>\n",
       "      <td>2.0</td>\n",
       "      <td>10.0</td>\n",
       "      <td>28.0</td>\n",
       "      <td>0.0</td>\n",
       "      <td>...</td>\n",
       "      <td>1</td>\n",
       "      <td>0</td>\n",
       "      <td>0</td>\n",
       "      <td>0</td>\n",
       "      <td>0</td>\n",
       "      <td>0</td>\n",
       "      <td>0</td>\n",
       "      <td>0</td>\n",
       "      <td>0</td>\n",
       "      <td>0</td>\n",
       "    </tr>\n",
       "    <tr>\n",
       "      <th>3</th>\n",
       "      <td>635000.0</td>\n",
       "      <td>2.0</td>\n",
       "      <td>217.0</td>\n",
       "      <td>4.0</td>\n",
       "      <td>1.0</td>\n",
       "      <td>0.0</td>\n",
       "      <td>4.0</td>\n",
       "      <td>25.0</td>\n",
       "      <td>63.0</td>\n",
       "      <td>0.0</td>\n",
       "      <td>...</td>\n",
       "      <td>1</td>\n",
       "      <td>0</td>\n",
       "      <td>0</td>\n",
       "      <td>0</td>\n",
       "      <td>0</td>\n",
       "      <td>0</td>\n",
       "      <td>0</td>\n",
       "      <td>0</td>\n",
       "      <td>0</td>\n",
       "      <td>0</td>\n",
       "    </tr>\n",
       "    <tr>\n",
       "      <th>4</th>\n",
       "      <td>595000.0</td>\n",
       "      <td>2.0</td>\n",
       "      <td>207.0</td>\n",
       "      <td>2.0</td>\n",
       "      <td>2.0</td>\n",
       "      <td>0.0</td>\n",
       "      <td>4.0</td>\n",
       "      <td>16.0</td>\n",
       "      <td>60.0</td>\n",
       "      <td>0.0</td>\n",
       "      <td>...</td>\n",
       "      <td>1</td>\n",
       "      <td>0</td>\n",
       "      <td>0</td>\n",
       "      <td>0</td>\n",
       "      <td>0</td>\n",
       "      <td>0</td>\n",
       "      <td>0</td>\n",
       "      <td>0</td>\n",
       "      <td>0</td>\n",
       "      <td>0</td>\n",
       "    </tr>\n",
       "  </tbody>\n",
       "</table>\n",
       "<p>5 rows × 40 columns</p>\n",
       "</div>"
      ],
      "text/plain": [
       "      Price  Number of bedrooms  Livable surface  Kitchen equipment  \\\n",
       "0  333500.0                 2.0            100.0                4.0   \n",
       "1  379000.0                 1.0             80.0                4.0   \n",
       "2  295000.0                 2.0             80.0                2.0   \n",
       "3  635000.0                 2.0            217.0                4.0   \n",
       "4  595000.0                 2.0            207.0                2.0   \n",
       "\n",
       "   Number of bathrooms  Balcony  State of the property  \\\n",
       "0                  1.0      0.0                    2.0   \n",
       "1                  1.0      0.0                    2.0   \n",
       "2                  1.0      0.0                    2.0   \n",
       "3                  1.0      0.0                    4.0   \n",
       "4                  2.0      0.0                    4.0   \n",
       "\n",
       "   Surface master bedroom  Surface of living-room  Cellar  ...  \\\n",
       "0                    13.0                    29.0     0.0  ...   \n",
       "1                    21.0                    25.0     1.0  ...   \n",
       "2                    10.0                    28.0     0.0  ...   \n",
       "3                    25.0                    63.0     0.0  ...   \n",
       "4                    16.0                    60.0     0.0  ...   \n",
       "\n",
       "   Brussels-Capital Region  East Flanders Province  Flemish Brabant Province  \\\n",
       "0                        1                       0                         0   \n",
       "1                        1                       0                         0   \n",
       "2                        1                       0                         0   \n",
       "3                        1                       0                         0   \n",
       "4                        1                       0                         0   \n",
       "\n",
       "   Hainaut Province  Limburg Province  Liège Province  Luxembourg Province  \\\n",
       "0                 0                 0               0                    0   \n",
       "1                 0                 0               0                    0   \n",
       "2                 0                 0               0                    0   \n",
       "3                 0                 0               0                    0   \n",
       "4                 0                 0               0                    0   \n",
       "\n",
       "   Namur Province  Walloon Brabant Province  West Flanders Province  \n",
       "0               0                         0                       0  \n",
       "1               0                         0                       0  \n",
       "2               0                         0                       0  \n",
       "3               0                         0                       0  \n",
       "4               0                         0                       0  \n",
       "\n",
       "[5 rows x 40 columns]"
      ]
     },
     "execution_count": 144,
     "metadata": {},
     "output_type": "execute_result"
    }
   ],
   "source": [
    "ml_ready_data.head()"
   ]
  },
  {
   "cell_type": "code",
   "execution_count": 145,
   "id": "0281fcc2",
   "metadata": {
    "scrolled": false
   },
   "outputs": [
    {
     "data": {
      "text/plain": [
       "Index(['Price', 'Number of bedrooms', 'Livable surface', 'Kitchen equipment',\n",
       "       'Number of bathrooms', 'Balcony', 'State of the property',\n",
       "       'Surface master bedroom', 'Surface of living-room', 'Cellar',\n",
       "       'Number of facades', 'Surface terrace', 'Surface garden', 'Garage',\n",
       "       'apartment', 'bungalow', 'chalet', 'cottage', 'duplex', 'ground-floor',\n",
       "       'loft', 'mansion', 'master-house', 'mixed-building', 'penthouse',\n",
       "       'residence', 'studio', 'triplex', 'villa', 'Antwerp Province',\n",
       "       'Brussels-Capital Region', 'East Flanders Province',\n",
       "       'Flemish Brabant Province', 'Hainaut Province', 'Limburg Province',\n",
       "       'Liège Province', 'Luxembourg Province', 'Namur Province',\n",
       "       'Walloon Brabant Province', 'West Flanders Province'],\n",
       "      dtype='object')"
      ]
     },
     "execution_count": 145,
     "metadata": {},
     "output_type": "execute_result"
    }
   ],
   "source": [
    "ml_ready_data.columns"
   ]
  },
  {
   "cell_type": "markdown",
   "id": "88c1090e",
   "metadata": {},
   "source": [
    "### Standardisation"
   ]
  },
  {
   "cell_type": "code",
   "execution_count": 175,
   "id": "2e351fff",
   "metadata": {
    "scrolled": false
   },
   "outputs": [
    {
     "data": {
      "text/html": [
       "<div>\n",
       "<style scoped>\n",
       "    .dataframe tbody tr th:only-of-type {\n",
       "        vertical-align: middle;\n",
       "    }\n",
       "\n",
       "    .dataframe tbody tr th {\n",
       "        vertical-align: top;\n",
       "    }\n",
       "\n",
       "    .dataframe thead th {\n",
       "        text-align: right;\n",
       "    }\n",
       "</style>\n",
       "<table border=\"1\" class=\"dataframe\">\n",
       "  <thead>\n",
       "    <tr style=\"text-align: right;\">\n",
       "      <th></th>\n",
       "      <th>Price</th>\n",
       "      <th>Number of bedrooms</th>\n",
       "      <th>Livable surface</th>\n",
       "      <th>Kitchen equipment</th>\n",
       "      <th>Number of bathrooms</th>\n",
       "      <th>Balcony</th>\n",
       "      <th>State of the property</th>\n",
       "      <th>Surface master bedroom</th>\n",
       "      <th>Surface of living-room</th>\n",
       "      <th>Cellar</th>\n",
       "      <th>...</th>\n",
       "      <th>Brussels-Capital Region</th>\n",
       "      <th>East Flanders Province</th>\n",
       "      <th>Flemish Brabant Province</th>\n",
       "      <th>Hainaut Province</th>\n",
       "      <th>Limburg Province</th>\n",
       "      <th>Liège Province</th>\n",
       "      <th>Luxembourg Province</th>\n",
       "      <th>Namur Province</th>\n",
       "      <th>Walloon Brabant Province</th>\n",
       "      <th>West Flanders Province</th>\n",
       "    </tr>\n",
       "  </thead>\n",
       "  <tbody>\n",
       "    <tr>\n",
       "      <th>0</th>\n",
       "      <td>-0.052862</td>\n",
       "      <td>-0.547885</td>\n",
       "      <td>-0.338221</td>\n",
       "      <td>1.636507</td>\n",
       "      <td>-0.352604</td>\n",
       "      <td>-0.144758</td>\n",
       "      <td>-0.616825</td>\n",
       "      <td>-0.238201</td>\n",
       "      <td>-0.277172</td>\n",
       "      <td>-0.562946</td>\n",
       "      <td>...</td>\n",
       "      <td>2.366979</td>\n",
       "      <td>-0.328992</td>\n",
       "      <td>-0.33573</td>\n",
       "      <td>-0.394024</td>\n",
       "      <td>-0.248657</td>\n",
       "      <td>-0.270794</td>\n",
       "      <td>-0.137316</td>\n",
       "      <td>-0.119945</td>\n",
       "      <td>-0.182656</td>\n",
       "      <td>-0.436323</td>\n",
       "    </tr>\n",
       "    <tr>\n",
       "      <th>1</th>\n",
       "      <td>0.103939</td>\n",
       "      <td>-1.283359</td>\n",
       "      <td>-0.454416</td>\n",
       "      <td>1.636507</td>\n",
       "      <td>-0.352604</td>\n",
       "      <td>-0.144758</td>\n",
       "      <td>-0.616825</td>\n",
       "      <td>0.036201</td>\n",
       "      <td>-0.360172</td>\n",
       "      <td>1.776369</td>\n",
       "      <td>...</td>\n",
       "      <td>2.366979</td>\n",
       "      <td>-0.328992</td>\n",
       "      <td>-0.33573</td>\n",
       "      <td>-0.394024</td>\n",
       "      <td>-0.248657</td>\n",
       "      <td>-0.270794</td>\n",
       "      <td>-0.137316</td>\n",
       "      <td>-0.119945</td>\n",
       "      <td>-0.182656</td>\n",
       "      <td>-0.436323</td>\n",
       "    </tr>\n",
       "    <tr>\n",
       "      <th>2</th>\n",
       "      <td>-0.185539</td>\n",
       "      <td>-0.547885</td>\n",
       "      <td>-0.454416</td>\n",
       "      <td>-0.665526</td>\n",
       "      <td>-0.352604</td>\n",
       "      <td>-0.144758</td>\n",
       "      <td>-0.616825</td>\n",
       "      <td>-0.341101</td>\n",
       "      <td>-0.297922</td>\n",
       "      <td>-0.562946</td>\n",
       "      <td>...</td>\n",
       "      <td>2.366979</td>\n",
       "      <td>-0.328992</td>\n",
       "      <td>-0.33573</td>\n",
       "      <td>-0.394024</td>\n",
       "      <td>-0.248657</td>\n",
       "      <td>-0.270794</td>\n",
       "      <td>-0.137316</td>\n",
       "      <td>-0.119945</td>\n",
       "      <td>-0.182656</td>\n",
       "      <td>-0.436323</td>\n",
       "    </tr>\n",
       "    <tr>\n",
       "      <th>3</th>\n",
       "      <td>0.986157</td>\n",
       "      <td>-0.547885</td>\n",
       "      <td>0.341521</td>\n",
       "      <td>1.636507</td>\n",
       "      <td>-0.352604</td>\n",
       "      <td>-0.144758</td>\n",
       "      <td>0.810923</td>\n",
       "      <td>0.173401</td>\n",
       "      <td>0.428334</td>\n",
       "      <td>-0.562946</td>\n",
       "      <td>...</td>\n",
       "      <td>2.366979</td>\n",
       "      <td>-0.328992</td>\n",
       "      <td>-0.33573</td>\n",
       "      <td>-0.394024</td>\n",
       "      <td>-0.248657</td>\n",
       "      <td>-0.270794</td>\n",
       "      <td>-0.137316</td>\n",
       "      <td>-0.119945</td>\n",
       "      <td>-0.182656</td>\n",
       "      <td>-0.436323</td>\n",
       "    </tr>\n",
       "    <tr>\n",
       "      <th>4</th>\n",
       "      <td>0.848310</td>\n",
       "      <td>-0.547885</td>\n",
       "      <td>0.283423</td>\n",
       "      <td>-0.665526</td>\n",
       "      <td>1.215581</td>\n",
       "      <td>-0.144758</td>\n",
       "      <td>0.810923</td>\n",
       "      <td>-0.135300</td>\n",
       "      <td>0.366083</td>\n",
       "      <td>-0.562946</td>\n",
       "      <td>...</td>\n",
       "      <td>2.366979</td>\n",
       "      <td>-0.328992</td>\n",
       "      <td>-0.33573</td>\n",
       "      <td>-0.394024</td>\n",
       "      <td>-0.248657</td>\n",
       "      <td>-0.270794</td>\n",
       "      <td>-0.137316</td>\n",
       "      <td>-0.119945</td>\n",
       "      <td>-0.182656</td>\n",
       "      <td>-0.436323</td>\n",
       "    </tr>\n",
       "  </tbody>\n",
       "</table>\n",
       "<p>5 rows × 40 columns</p>\n",
       "</div>"
      ],
      "text/plain": [
       "      Price  Number of bedrooms  Livable surface  Kitchen equipment  \\\n",
       "0 -0.052862           -0.547885        -0.338221           1.636507   \n",
       "1  0.103939           -1.283359        -0.454416           1.636507   \n",
       "2 -0.185539           -0.547885        -0.454416          -0.665526   \n",
       "3  0.986157           -0.547885         0.341521           1.636507   \n",
       "4  0.848310           -0.547885         0.283423          -0.665526   \n",
       "\n",
       "   Number of bathrooms   Balcony  State of the property  \\\n",
       "0            -0.352604 -0.144758              -0.616825   \n",
       "1            -0.352604 -0.144758              -0.616825   \n",
       "2            -0.352604 -0.144758              -0.616825   \n",
       "3            -0.352604 -0.144758               0.810923   \n",
       "4             1.215581 -0.144758               0.810923   \n",
       "\n",
       "   Surface master bedroom  Surface of living-room    Cellar  ...  \\\n",
       "0               -0.238201               -0.277172 -0.562946  ...   \n",
       "1                0.036201               -0.360172  1.776369  ...   \n",
       "2               -0.341101               -0.297922 -0.562946  ...   \n",
       "3                0.173401                0.428334 -0.562946  ...   \n",
       "4               -0.135300                0.366083 -0.562946  ...   \n",
       "\n",
       "   Brussels-Capital Region  East Flanders Province  Flemish Brabant Province  \\\n",
       "0                 2.366979               -0.328992                  -0.33573   \n",
       "1                 2.366979               -0.328992                  -0.33573   \n",
       "2                 2.366979               -0.328992                  -0.33573   \n",
       "3                 2.366979               -0.328992                  -0.33573   \n",
       "4                 2.366979               -0.328992                  -0.33573   \n",
       "\n",
       "   Hainaut Province  Limburg Province  Liège Province  Luxembourg Province  \\\n",
       "0         -0.394024         -0.248657       -0.270794            -0.137316   \n",
       "1         -0.394024         -0.248657       -0.270794            -0.137316   \n",
       "2         -0.394024         -0.248657       -0.270794            -0.137316   \n",
       "3         -0.394024         -0.248657       -0.270794            -0.137316   \n",
       "4         -0.394024         -0.248657       -0.270794            -0.137316   \n",
       "\n",
       "   Namur Province  Walloon Brabant Province  West Flanders Province  \n",
       "0       -0.119945                 -0.182656               -0.436323  \n",
       "1       -0.119945                 -0.182656               -0.436323  \n",
       "2       -0.119945                 -0.182656               -0.436323  \n",
       "3       -0.119945                 -0.182656               -0.436323  \n",
       "4       -0.119945                 -0.182656               -0.436323  \n",
       "\n",
       "[5 rows x 40 columns]"
      ]
     },
     "execution_count": 175,
     "metadata": {},
     "output_type": "execute_result"
    }
   ],
   "source": [
    "scalled = ml_ready_data.values\n",
    "scaler = StandardScaler()\n",
    "scalled = scaler.fit_transform(scalled)\n",
    "scalled = pd.DataFrame(scalled)\n",
    "scalled.columns = ml_ready_data.columns\n",
    "scalled.head()"
   ]
  },
  {
   "cell_type": "code",
   "execution_count": 273,
   "id": "7a8bb600",
   "metadata": {
    "scrolled": true
   },
   "outputs": [
    {
     "data": {
      "text/plain": [
       "Index(['Price', 'Number of bedrooms', 'Livable surface', 'Kitchen equipment',\n",
       "       'Number of bathrooms', 'Balcony', 'State of the property',\n",
       "       'Surface master bedroom', 'Surface of living-room', 'Cellar',\n",
       "       'Number of facades', 'Surface terrace', 'Surface garden', 'Garage',\n",
       "       'apartment', 'bungalow', 'chalet', 'cottage', 'duplex', 'ground-floor',\n",
       "       'loft', 'mansion', 'master-house', 'mixed-building', 'penthouse',\n",
       "       'residence', 'studio', 'triplex', 'villa', 'Antwerp Province',\n",
       "       'Brussels-Capital Region', 'East Flanders Province',\n",
       "       'Flemish Brabant Province', 'Hainaut Province', 'Limburg Province',\n",
       "       'Liège Province', 'Luxembourg Province', 'Namur Province',\n",
       "       'Walloon Brabant Province', 'West Flanders Province'],\n",
       "      dtype='object')"
      ]
     },
     "execution_count": 273,
     "metadata": {},
     "output_type": "execute_result"
    }
   ],
   "source": [
    "scalled.columns"
   ]
  },
  {
   "cell_type": "code",
   "execution_count": 309,
   "id": "0f5e44ad",
   "metadata": {},
   "outputs": [],
   "source": [
    "shorter_df = ml_ready_data[\n",
    "    [\n",
    "        \"Price\", \n",
    "        \"Number of bedrooms\", \n",
    "        \"Livable surface\", \n",
    "        \"Number of facades\", \n",
    "        \"Surface garden\",\n",
    "        \"Kitchen equipment\"\n",
    "    ]\n",
    "]"
   ]
  },
  {
   "cell_type": "markdown",
   "id": "29acc6b7",
   "metadata": {},
   "source": [
    "### Model Training"
   ]
  },
  {
   "cell_type": "code",
   "execution_count": 310,
   "id": "2273dcb2",
   "metadata": {},
   "outputs": [],
   "source": [
    "X = np.array(shorter_df.loc[:, \"Number of bedrooms\":])\n",
    "y = np.array(shorter_df[\"Price\"])"
   ]
  },
  {
   "cell_type": "code",
   "execution_count": 311,
   "id": "8bceafef",
   "metadata": {},
   "outputs": [
    {
     "data": {
      "text/plain": [
       "(17345, 5)"
      ]
     },
     "execution_count": 311,
     "metadata": {},
     "output_type": "execute_result"
    }
   ],
   "source": [
    "X.shape"
   ]
  },
  {
   "cell_type": "code",
   "execution_count": 312,
   "id": "74a3b420",
   "metadata": {},
   "outputs": [],
   "source": [
    "X_train, X_test, y_train, y_test = train_test_split(X, y, test_size=0.2, random_state=42)"
   ]
  },
  {
   "cell_type": "code",
   "execution_count": 313,
   "id": "fbdf3aee",
   "metadata": {},
   "outputs": [],
   "source": [
    "reg = LinearRegression().fit(X_train, y_train)"
   ]
  },
  {
   "cell_type": "code",
   "execution_count": 314,
   "id": "d95204ac",
   "metadata": {
    "scrolled": true
   },
   "outputs": [
    {
     "data": {
      "text/plain": [
       "0.37449841973725906"
      ]
     },
     "execution_count": 314,
     "metadata": {},
     "output_type": "execute_result"
    }
   ],
   "source": [
    "reg.score(X_train, y_train)"
   ]
  },
  {
   "cell_type": "code",
   "execution_count": 315,
   "id": "8b8c0356",
   "metadata": {},
   "outputs": [],
   "source": [
    "y_pred = reg.predict(X_test)"
   ]
  },
  {
   "cell_type": "code",
   "execution_count": 316,
   "id": "fdb0b26a",
   "metadata": {
    "scrolled": false
   },
   "outputs": [
    {
     "name": "stdout",
     "output_type": "stream",
     "text": [
      "-0.5639616388688529\n"
     ]
    }
   ],
   "source": [
    "print(r2_score(y_test, y_pred))"
   ]
  },
  {
   "cell_type": "code",
   "execution_count": 317,
   "id": "1d4fbe84",
   "metadata": {},
   "outputs": [
    {
     "data": {
      "text/plain": [
       "-26304.623105209437"
      ]
     },
     "execution_count": 317,
     "metadata": {},
     "output_type": "execute_result"
    }
   ],
   "source": [
    "reg.intercept_"
   ]
  },
  {
   "cell_type": "code",
   "execution_count": 318,
   "id": "259bf931",
   "metadata": {
    "scrolled": false
   },
   "outputs": [
    {
     "data": {
      "text/plain": [
       "array([3.95844127e+04, 1.01972754e+03, 1.38604559e+04, 1.40430119e+01,\n",
       "       2.71088296e+04])"
      ]
     },
     "execution_count": 318,
     "metadata": {},
     "output_type": "execute_result"
    }
   ],
   "source": [
    "reg.coef_"
   ]
  },
  {
   "cell_type": "code",
   "execution_count": 319,
   "id": "d685f751",
   "metadata": {},
   "outputs": [],
   "source": [
    "filename = 'model.sav'\n",
    "pickle.dump(reg, open(filename, 'wb'))"
   ]
  },
  {
   "cell_type": "markdown",
   "id": "67e1db57",
   "metadata": {},
   "source": [
    "### Predictions"
   ]
  },
  {
   "cell_type": "code",
   "execution_count": 320,
   "id": "24cfea86",
   "metadata": {
    "scrolled": false
   },
   "outputs": [
    {
     "data": {
      "text/plain": [
       "array([279168.5422565])"
      ]
     },
     "execution_count": 320,
     "metadata": {},
     "output_type": "execute_result"
    }
   ],
   "source": [
    "bedroom = 3\n",
    "surface = 100\n",
    "facades = 2\n",
    "garden = 200\n",
    "kitchen = 2\n",
    "\n",
    "reg.predict([[bedroom, surface, facades, garden, kitchen]])"
   ]
  }
 ],
 "metadata": {
  "kernelspec": {
   "display_name": "Python 3 (ipykernel)",
   "language": "python",
   "name": "python3"
  },
  "language_info": {
   "codemirror_mode": {
    "name": "ipython",
    "version": 3
   },
   "file_extension": ".py",
   "mimetype": "text/x-python",
   "name": "python",
   "nbconvert_exporter": "python",
   "pygments_lexer": "ipython3",
   "version": "3.9.7"
  },
  "toc": {
   "base_numbering": 1,
   "nav_menu": {},
   "number_sections": true,
   "sideBar": true,
   "skip_h1_title": true,
   "title_cell": "Table of Contents",
   "title_sidebar": "Contents",
   "toc_cell": false,
   "toc_position": {
    "height": "calc(100% - 180px)",
    "left": "10px",
    "top": "150px",
    "width": "193.796875px"
   },
   "toc_section_display": true,
   "toc_window_display": false
  }
 },
 "nbformat": 4,
 "nbformat_minor": 5
}
