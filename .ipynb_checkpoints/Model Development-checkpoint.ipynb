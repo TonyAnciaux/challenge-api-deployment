{
 "cells": [
  {
   "cell_type": "markdown",
   "id": "0732a6d5",
   "metadata": {},
   "source": [
    "# Model Development "
   ]
  },
  {
   "cell_type": "markdown",
   "id": "c754c695",
   "metadata": {},
   "source": [
    "## Libraries & Data Import"
   ]
  },
  {
   "cell_type": "code",
   "execution_count": null,
   "id": "2ad0d8e2",
   "metadata": {},
   "outputs": [],
   "source": [
    "import pandas as pd "
   ]
  },
  {
   "cell_type": "code",
   "execution_count": 9,
   "id": "711cbe17",
   "metadata": {},
   "outputs": [],
   "source": [
    "df = pd.read_csv(\n",
    "    \"/Users/tonyanciaux/Documents/AI Bootcamp - BeCode/project3_immovlan_analysis/utils/data_cleaned.csv\",\n",
    "    sep=\";\",\n",
    "    index_col=0,\n",
    ")"
   ]
  },
  {
   "cell_type": "markdown",
   "id": "6937995a",
   "metadata": {},
   "source": [
    "## Data Cleaning"
   ]
  },
  {
   "cell_type": "code",
   "execution_count": 5,
   "id": "e9fa1526",
   "metadata": {},
   "outputs": [
    {
     "data": {
      "text/plain": [
       "Index(['Locality', 'Type of property', 'Subtype of property', 'Price',\n",
       "       'Number of bedrooms', 'Livable surface', 'Kitchen equipment',\n",
       "       'Number of bathrooms', 'Number of toilets', 'Floor of appartment',\n",
       "       'Number of floors', 'Balcony', 'State of the property', 'Build Year',\n",
       "       'Surface bedroom 1', 'Furnished', 'Surface of living-room', 'Cellar',\n",
       "       'Surface kitchen', 'Entry phone', 'Elevator', 'Number of showers',\n",
       "       'Orientation of the front facade', 'Number of facades', 'Terrace',\n",
       "       'Surface terrace', 'Surface bedroom 2', 'Security door',\n",
       "       'Access for disabled', 'Sewer Connection', 'Garden', 'Surface garden',\n",
       "       'Surface bedroom 3', 'Garage'],\n",
       "      dtype='object')"
      ]
     },
     "execution_count": 5,
     "metadata": {},
     "output_type": "execute_result"
    }
   ],
   "source": [
    "df.columns"
   ]
  },
  {
   "cell_type": "code",
   "execution_count": null,
   "id": "3d5a5503",
   "metadata": {},
   "outputs": [],
   "source": [
    "{\n",
    "  \"data\": {\n",
    "    \"area\": int,\n",
    "    \"property-type\": \"APARTMENT\" | \"HOUSE\" | \"OTHERS\",\n",
    "    \"rooms-number\": int,\n",
    "    \"zip-code\": int,\n",
    "    \"land-area\": Optional[int],\n",
    "    \"garden\": Optional[bool],\n",
    "    \"garden-area\": Optional[int],\n",
    "    \"equipped-kitchen\": Optional[bool],\n",
    "    \"full-address\": Optional[str],\n",
    "    \"swimming-pool\": Optional[bool],\n",
    "    \"furnished\": Optional[bool],\n",
    "    \"open-fire\": Optional[bool],\n",
    "    \"terrace\": Optional[bool],\n",
    "    \"terrace-area\": Optional[int],\n",
    "    \"facades-number\": Optional[int],\n",
    "    \"building-state\": Optional[\n",
    "      \"NEW\" | \"GOOD\" | \"TO RENOVATE\" | \"JUST RENOVATED\" | \"TO REBUILD\"\n",
    "    ]\n",
    "  }\n",
    "}"
   ]
  }
 ],
 "metadata": {
  "kernelspec": {
   "display_name": "Python 3 (ipykernel)",
   "language": "python",
   "name": "python3"
  },
  "language_info": {
   "codemirror_mode": {
    "name": "ipython",
    "version": 3
   },
   "file_extension": ".py",
   "mimetype": "text/x-python",
   "name": "python",
   "nbconvert_exporter": "python",
   "pygments_lexer": "ipython3",
   "version": "3.9.7"
  }
 },
 "nbformat": 4,
 "nbformat_minor": 5
}
